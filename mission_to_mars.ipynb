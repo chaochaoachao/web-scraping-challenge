{
 "cells": [
  {
   "cell_type": "code",
   "execution_count": 91,
   "metadata": {},
   "outputs": [],
   "source": [
    "#dependenices\n",
    "import pandas as pd\n",
    "\n",
    "from splinter import Browser\n",
    "from splinter.exceptions import ElementDoesNotExist\n",
    "from bs4 import BeautifulSoup\n",
    "\n",
    "import requests\n",
    "import pymongo\n",
    "import time\n",
    "import json"
   ]
  },
  {
   "cell_type": "code",
   "execution_count": 48,
   "metadata": {},
   "outputs": [],
   "source": [
    "def init_browser():\n",
    "    executable_path = {\"executable_path\": \"chromedriver.exe\"}\n",
    "    return Browser(\"chrome\", **executable_path, headless=False)"
   ]
  },
  {
   "cell_type": "code",
   "execution_count": 75,
   "metadata": {},
   "outputs": [],
   "source": [
    "# open browser window using splinter \n",
    "def init_visit_web(url):\n",
    "    executable_path = {\"executable_path\":\"chromedriver.exe\"}\n",
    "    browser=Browser(\"chrome\", **executable_path, headless=False)\n",
    "    browser.visit(url)\n",
    "    # wait for page to be load\n",
    "    time.sleep(1)\n",
    "    soup = BeautifulSoup(browser.html, 'lxml')\n",
    "    return soup"
   ]
  },
  {
   "cell_type": "markdown",
   "metadata": {},
   "source": [
    "# NASA MARS NEWS"
   ]
  },
  {
   "cell_type": "code",
   "execution_count": 132,
   "metadata": {},
   "outputs": [],
   "source": [
    "url = 'https://mars.nasa.gov/news/?page=0&per_page=40&order=publish_date+desc%2Ccreated_at+desc&search=&category=19%2C165%2C184%2C204&blank_scope=Latest'\n",
    "soup=init_visit_web(url)"
   ]
  },
  {
   "cell_type": "code",
   "execution_count": 105,
   "metadata": {},
   "outputs": [],
   "source": [
    "# get list of elements to extract the data from\n",
    "result=soup.find('div', class_='list_text')\n",
    "news_title=result.find('div', class_='content_title',recursive=True).text\n",
    "news_p=result.find('div', class_='article_teaser_body',recursive=True).text"
   ]
  },
  {
   "cell_type": "code",
   "execution_count": 106,
   "metadata": {},
   "outputs": [
    {
     "name": "stdout",
     "output_type": "stream",
     "text": [
      "Space History Is Made in This NASA Robot Factory\n",
      "From rockets to rovers, JPL's Spacecraft Assembly Facility has been at the center of robotic spaceflight. Here's a closer look at what makes it so special.\n"
     ]
    }
   ],
   "source": [
    "print(news_title)\n",
    "print(news_p)"
   ]
  },
  {
   "cell_type": "markdown",
   "metadata": {},
   "source": [
    "# JPL Mars Space Images - Featured Image"
   ]
  },
  {
   "cell_type": "code",
   "execution_count": 61,
   "metadata": {},
   "outputs": [],
   "source": [
    "browser=init_browser()\n",
    "url='https://www.jpl.nasa.gov/spaceimages/?search=&category=Mars'\n",
    "browser.visit(url)"
   ]
  },
  {
   "cell_type": "code",
   "execution_count": 62,
   "metadata": {},
   "outputs": [],
   "source": [
    "browser.click_link_by_id('full_image')\n",
    "time.sleep(3)"
   ]
  },
  {
   "cell_type": "code",
   "execution_count": 63,
   "metadata": {},
   "outputs": [
    {
     "name": "stderr",
     "output_type": "stream",
     "text": [
      "C:\\Users\\16478\\Anaconda3\\lib\\site-packages\\splinter\\driver\\webdriver\\__init__.py:504: FutureWarning: browser.find_link_by_partial_text is deprecated. Use browser.links.find_by_partial_text instead.\n",
      "  FutureWarning,\n"
     ]
    }
   ],
   "source": [
    "# click the button opening details page for the featured image\n",
    "browser.click_link_by_partial_text('more info')"
   ]
  },
  {
   "cell_type": "code",
   "execution_count": 67,
   "metadata": {},
   "outputs": [
    {
     "name": "stdout",
     "output_type": "stream",
     "text": [
      "/spaceimages/images/largesize/PIA18291_hires.jpg\n",
      "https://www.jpl.nasa.gov/spaceimages/images/largesize/PIA18291_hires.jpg\n"
     ]
    }
   ],
   "source": [
    "soup = BeautifulSoup(browser.html, 'lxml')\n",
    "# Parse HTML with Beautiful Soup\n",
    "img_url = soup.find('figure', class_='lede').a['href']\n",
    "print(img_url)\n",
    "featured_image_url='https://www.jpl.nasa.gov'+ img_url\n",
    "print(featured_image_url)"
   ]
  },
  {
   "cell_type": "markdown",
   "metadata": {},
   "source": [
    "# Mars Weather"
   ]
  },
  {
   "cell_type": "code",
   "execution_count": 77,
   "metadata": {},
   "outputs": [],
   "source": [
    "url = 'https://twitter.com/marswxreport?lang=en'\n",
    "soup = init_visit_web(url)"
   ]
  },
  {
   "cell_type": "code",
   "execution_count": 78,
   "metadata": {},
   "outputs": [
    {
     "name": "stdout",
     "output_type": "stream",
     "text": [
      "InSight sol 380 (2019-12-21) low -97.9ºC (-144.3ºF) high -20.6ºC (-5.0ºF)\n",
      "winds from the SSE at 6.3 m/s (14.1 mph) gusting to 21.5 m/s (48.2 mph)\n",
      "pressure at 6.50 hPa\n"
     ]
    }
   ],
   "source": [
    "mars_weather = soup.find('p', class_='TweetTextSize').text\n",
    "print(mars_weather)"
   ]
  },
  {
   "cell_type": "markdown",
   "metadata": {},
   "source": [
    "# Mars Facts"
   ]
  },
  {
   "cell_type": "code",
   "execution_count": 79,
   "metadata": {},
   "outputs": [
    {
     "data": {
      "text/html": [
       "<div>\n",
       "<style scoped>\n",
       "    .dataframe tbody tr th:only-of-type {\n",
       "        vertical-align: middle;\n",
       "    }\n",
       "\n",
       "    .dataframe tbody tr th {\n",
       "        vertical-align: top;\n",
       "    }\n",
       "\n",
       "    .dataframe thead th {\n",
       "        text-align: right;\n",
       "    }\n",
       "</style>\n",
       "<table border=\"1\" class=\"dataframe\">\n",
       "  <thead>\n",
       "    <tr style=\"text-align: right;\">\n",
       "      <th></th>\n",
       "      <th>0</th>\n",
       "      <th>1</th>\n",
       "    </tr>\n",
       "  </thead>\n",
       "  <tbody>\n",
       "    <tr>\n",
       "      <th>0</th>\n",
       "      <td>Equatorial Diameter:</td>\n",
       "      <td>120,536 km</td>\n",
       "    </tr>\n",
       "    <tr>\n",
       "      <th>1</th>\n",
       "      <td>Polar Diameter:</td>\n",
       "      <td>108,728 km</td>\n",
       "    </tr>\n",
       "    <tr>\n",
       "      <th>2</th>\n",
       "      <td>Mass:</td>\n",
       "      <td>5.68 × 10^26 kg (95 Earths)</td>\n",
       "    </tr>\n",
       "    <tr>\n",
       "      <th>3</th>\n",
       "      <td>Moons:</td>\n",
       "      <td>82 (Titan, Enceladus, Iapetus &amp; Rhea)</td>\n",
       "    </tr>\n",
       "    <tr>\n",
       "      <th>4</th>\n",
       "      <td>Rings:</td>\n",
       "      <td>30+ (7 Groups)</td>\n",
       "    </tr>\n",
       "    <tr>\n",
       "      <th>5</th>\n",
       "      <td>Orbit Distance:</td>\n",
       "      <td>1,426,666,422 km (9.58 AU)</td>\n",
       "    </tr>\n",
       "    <tr>\n",
       "      <th>6</th>\n",
       "      <td>Orbit Period:</td>\n",
       "      <td>10,756 days (29.5 years)</td>\n",
       "    </tr>\n",
       "    <tr>\n",
       "      <th>7</th>\n",
       "      <td>Surface Temperature:</td>\n",
       "      <td>-139 °C</td>\n",
       "    </tr>\n",
       "    <tr>\n",
       "      <th>8</th>\n",
       "      <td>First Record:</td>\n",
       "      <td>8th century BC</td>\n",
       "    </tr>\n",
       "    <tr>\n",
       "      <th>9</th>\n",
       "      <td>Recorded By:</td>\n",
       "      <td>Assyrians</td>\n",
       "    </tr>\n",
       "  </tbody>\n",
       "</table>\n",
       "</div>"
      ],
      "text/plain": [
       "                      0                                      1\n",
       "0  Equatorial Diameter:                             120,536 km\n",
       "1       Polar Diameter:                             108,728 km\n",
       "2                 Mass:            5.68 × 10^26 kg (95 Earths)\n",
       "3                Moons:  82 (Titan, Enceladus, Iapetus & Rhea)\n",
       "4                Rings:                         30+ (7 Groups)\n",
       "5       Orbit Distance:             1,426,666,422 km (9.58 AU)\n",
       "6         Orbit Period:               10,756 days (29.5 years)\n",
       "7  Surface Temperature:                                -139 °C\n",
       "8         First Record:                         8th century BC\n",
       "9          Recorded By:                              Assyrians"
      ]
     },
     "execution_count": 79,
     "metadata": {},
     "output_type": "execute_result"
    }
   ],
   "source": [
    "url = 'https://space-facts.com/mars/s'\n",
    "tables = pd.read_html(url)\n",
    "tables[0]"
   ]
  },
  {
   "cell_type": "code",
   "execution_count": 80,
   "metadata": {},
   "outputs": [
    {
     "data": {
      "text/plain": [
       "'<table border=\"1\" class=\"dataframe\">  <thead>    <tr style=\"text-align: right;\">      <th></th>      <th>Value</th>    </tr>    <tr>      <th>Parameter</th>      <th></th>    </tr>  </thead>  <tbody>    <tr>      <th>Equatorial Diameter:</th>      <td>120,536 km</td>    </tr>    <tr>      <th>Polar Diameter:</th>      <td>108,728 km</td>    </tr>    <tr>      <th>Mass:</th>      <td>5.68 × 10^26 kg (95 Earths)</td>    </tr>    <tr>      <th>Moons:</th>      <td>82 (Titan, Enceladus, Iapetus &amp; Rhea)</td>    </tr>    <tr>      <th>Rings:</th>      <td>30+ (7 Groups)</td>    </tr>    <tr>      <th>Orbit Distance:</th>      <td>1,426,666,422 km (9.58 AU)</td>    </tr>    <tr>      <th>Orbit Period:</th>      <td>10,756 days (29.5 years)</td>    </tr>    <tr>      <th>Surface Temperature:</th>      <td>-139 °C</td>    </tr>    <tr>      <th>First Record:</th>      <td>8th\\xa0century BC</td>    </tr>    <tr>      <th>Recorded By:</th>      <td>Assyrians</td>    </tr>  </tbody></table>'"
      ]
     },
     "execution_count": 80,
     "metadata": {},
     "output_type": "execute_result"
    }
   ],
   "source": [
    "df = tables[0]\n",
    "df.columns = ['Parameter', 'Value']\n",
    "df.set_index('Parameter',inplace=True)\n",
    "mars_facts = df.to_html().replace('\\n', '')\n",
    "mars_facts"
   ]
  },
  {
   "cell_type": "markdown",
   "metadata": {},
   "source": [
    "# Mars Hemispheres"
   ]
  },
  {
   "cell_type": "code",
   "execution_count": 151,
   "metadata": {},
   "outputs": [],
   "source": [
    "url = 'https://astrogeology.usgs.gov/search/results?q=hemisphere+enhanced&k1=target&v1=Mars'\n",
    "soup = init_visit_web(url)"
   ]
  },
  {
   "cell_type": "code",
   "execution_count": 152,
   "metadata": {},
   "outputs": [],
   "source": [
    "#extract links to Mars Hemispehere images\n",
    "results=soup.find_all(\"div\", class_=\"item\")"
   ]
  },
  {
   "cell_type": "code",
   "execution_count": 153,
   "metadata": {},
   "outputs": [
    {
     "name": "stdout",
     "output_type": "stream",
     "text": [
      "https://astrogeology.usgs.gov/search/map/Mars/Viking/cerberus_enhanced\n",
      "https://astrogeology.usgs.gov/search/map/Mars/Viking/schiaparelli_enhanced\n",
      "https://astrogeology.usgs.gov/search/map/Mars/Viking/syrtis_major_enhanced\n",
      "https://astrogeology.usgs.gov/search/map/Mars/Viking/valles_marineris_enhanced\n",
      "[{'title': 'Cerberus Hemisphere ', 'img_url': 'http://astropedia.astrogeology.usgs.gov/download/Mars/Viking/cerberus_enhanced.tif/full.jpg'}, {'title': 'Schiaparelli Hemisphere ', 'img_url': 'http://astropedia.astrogeology.usgs.gov/download/Mars/Viking/schiaparelli_enhanced.tif/full.jpg'}, {'title': 'Syrtis Major Hemisphere ', 'img_url': 'http://astropedia.astrogeology.usgs.gov/download/Mars/Viking/syrtis_major_enhanced.tif/full.jpg'}, {'title': 'Valles Marineris Hemisphere ', 'img_url': 'http://astropedia.astrogeology.usgs.gov/download/Mars/Viking/valles_marineris_enhanced.tif/full.jpg'}]\n"
     ]
    }
   ],
   "source": [
    "hemisphere_image_urls = []\n",
    "for result in results:\n",
    "    title = result.find(\"h3\").text\n",
    "    title = title.replace(\"Enhanced\", \"\")\n",
    "    end_url = result.find(\"a\")[\"href\"]\n",
    "    img_url = \"https://astrogeology.usgs.gov\" + end_url  \n",
    "    print(img_url)\n",
    "    soup = init_visit_web(img_url)\n",
    "    image_div = soup.find(\"div\", class_=\"downloads\")\n",
    "    image_url = image_div.find(\"a\")[\"href\"]\n",
    "    hemisphere_image_urls.append({\"title\": title, \"img_url\": image_url})\n",
    "print(hemisphere_image_urls)"
   ]
  },
  {
   "cell_type": "code",
   "execution_count": 146,
   "metadata": {},
   "outputs": [],
   "source": [
    "# Initialize PyMongo to work with MongoDBs\n",
    "conn = 'mongodb://localhost:27017'\n",
    "client = pymongo.MongoClient(conn)"
   ]
  },
  {
   "cell_type": "code",
   "execution_count": 147,
   "metadata": {},
   "outputs": [
    {
     "data": {
      "text/plain": [
       "<pymongo.results.DeleteResult at 0x1109a10e208>"
      ]
     },
     "execution_count": 147,
     "metadata": {},
     "output_type": "execute_result"
    }
   ],
   "source": [
    "db = client.mission_to_mars_db\n",
    "collection = db.items\n",
    "db.items.delete_many({})"
   ]
  },
  {
   "cell_type": "code",
   "execution_count": 115,
   "metadata": {},
   "outputs": [],
   "source": [
    "hemisphere_image_url=json.dumps(hemisphere_image_urls)"
   ]
  },
  {
   "cell_type": "code",
   "execution_count": 116,
   "metadata": {},
   "outputs": [
    {
     "name": "stdout",
     "output_type": "stream",
     "text": [
      "[{\"title\": \"Cerberus Hemisphere \", \"img_url\": \"http://astropedia.astrogeology.usgs.gov/download/Mars/Viking/cerberus_enhanced.tif/full.jpg\"}, {\"title\": \"Schiaparelli Hemisphere \", \"img_url\": \"http://astropedia.astrogeology.usgs.gov/download/Mars/Viking/schiaparelli_enhanced.tif/full.jpg\"}, {\"title\": \"Syrtis Major Hemisphere \", \"img_url\": \"http://astropedia.astrogeology.usgs.gov/download/Mars/Viking/syrtis_major_enhanced.tif/full.jpg\"}, {\"title\": \"Valles Marineris Hemisphere \", \"img_url\": \"http://astropedia.astrogeology.usgs.gov/download/Mars/Viking/valles_marineris_enhanced.tif/full.jpg\"}]\n"
     ]
    }
   ],
   "source": [
    "print(hemisphere_image_url)"
   ]
  },
  {
   "cell_type": "code",
   "execution_count": 118,
   "metadata": {},
   "outputs": [],
   "source": [
    " mars_record= {\n",
    "            'news_title': news_title,\n",
    "            'news_p': news_p,\n",
    "            'featured_image_url': featured_image_url,\n",
    "            'mars_weather': mars_weather,\n",
    "            'mars_facts': mars_facts,\n",
    "            'hemisphere_image_urls': hemisphere_image_url\n",
    "        }"
   ]
  },
  {
   "cell_type": "code",
   "execution_count": 144,
   "metadata": {},
   "outputs": [
    {
     "name": "stdout",
     "output_type": "stream",
     "text": [
      "{'news_title': 'Space History Is Made in This NASA Robot Factory', 'news_p': \"From rockets to rovers, JPL's Spacecraft Assembly Facility has been at the center of robotic spaceflight. Here's a closer look at what makes it so special.\", 'featured_image_url': 'https://www.jpl.nasa.gov/spaceimages/images/largesize/PIA18291_hires.jpg', 'mars_weather': 'InSight sol 380 (2019-12-21) low -97.9ºC (-144.3ºF) high -20.6ºC (-5.0ºF)\\nwinds from the SSE at 6.3 m/s (14.1 mph) gusting to 21.5 m/s (48.2 mph)\\npressure at 6.50 hPa', 'mars_facts': '<table border=\"1\" class=\"dataframe\">  <thead>    <tr style=\"text-align: right;\">      <th></th>      <th>Value</th>    </tr>    <tr>      <th>Parameter</th>      <th></th>    </tr>  </thead>  <tbody>    <tr>      <th>Equatorial Diameter:</th>      <td>120,536 km</td>    </tr>    <tr>      <th>Polar Diameter:</th>      <td>108,728 km</td>    </tr>    <tr>      <th>Mass:</th>      <td>5.68 × 10^26 kg (95 Earths)</td>    </tr>    <tr>      <th>Moons:</th>      <td>82 (Titan, Enceladus, Iapetus &amp; Rhea)</td>    </tr>    <tr>      <th>Rings:</th>      <td>30+ (7 Groups)</td>    </tr>    <tr>      <th>Orbit Distance:</th>      <td>1,426,666,422 km (9.58 AU)</td>    </tr>    <tr>      <th>Orbit Period:</th>      <td>10,756 days (29.5 years)</td>    </tr>    <tr>      <th>Surface Temperature:</th>      <td>-139 °C</td>    </tr>    <tr>      <th>First Record:</th>      <td>8th\\xa0century BC</td>    </tr>    <tr>      <th>Recorded By:</th>      <td>Assyrians</td>    </tr>  </tbody></table>', 'hemisphere_image_urls': '[{\"title\": \"Cerberus Hemisphere \", \"img_url\": \"http://astropedia.astrogeology.usgs.gov/download/Mars/Viking/cerberus_enhanced.tif/full.jpg\"}, {\"title\": \"Schiaparelli Hemisphere \", \"img_url\": \"http://astropedia.astrogeology.usgs.gov/download/Mars/Viking/schiaparelli_enhanced.tif/full.jpg\"}, {\"title\": \"Syrtis Major Hemisphere \", \"img_url\": \"http://astropedia.astrogeology.usgs.gov/download/Mars/Viking/syrtis_major_enhanced.tif/full.jpg\"}, {\"title\": \"Valles Marineris Hemisphere \", \"img_url\": \"http://astropedia.astrogeology.usgs.gov/download/Mars/Viking/valles_marineris_enhanced.tif/full.jpg\"}]', '_id': ObjectId('5e0134ad390eff21f7d2f508')}\n"
     ]
    }
   ],
   "source": [
    "print(mars_record)"
   ]
  },
  {
   "cell_type": "code",
   "execution_count": 148,
   "metadata": {},
   "outputs": [
    {
     "data": {
      "text/plain": [
       "<pymongo.results.InsertOneResult at 0x1109a140248>"
      ]
     },
     "execution_count": 148,
     "metadata": {},
     "output_type": "execute_result"
    }
   ],
   "source": [
    "# Insert data into Mongo DB\n",
    "db.items.insert_one(mars_record)"
   ]
  },
  {
   "cell_type": "code",
   "execution_count": 150,
   "metadata": {},
   "outputs": [],
   "source": [
    "cursor = db.mission_to_mars_db # choosing the collection you need\n",
    "for document in cursor.find():\n",
    "    print (document)"
   ]
  },
  {
   "cell_type": "code",
   "execution_count": null,
   "metadata": {},
   "outputs": [],
   "source": []
  }
 ],
 "metadata": {
  "kernelspec": {
   "display_name": "Python 3",
   "language": "python",
   "name": "python3"
  },
  "language_info": {
   "codemirror_mode": {
    "name": "ipython",
    "version": 3
   },
   "file_extension": ".py",
   "mimetype": "text/x-python",
   "name": "python",
   "nbconvert_exporter": "python",
   "pygments_lexer": "ipython3",
   "version": "3.7.3"
  }
 },
 "nbformat": 4,
 "nbformat_minor": 2
}
